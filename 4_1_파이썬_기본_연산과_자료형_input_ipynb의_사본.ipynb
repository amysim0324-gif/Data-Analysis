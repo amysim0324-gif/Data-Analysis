{
  "cells": [
    {
      "cell_type": "markdown",
      "metadata": {
        "id": "view-in-github",
        "colab_type": "text"
      },
      "source": [
        "<a href=\"https://colab.research.google.com/github/amysim0324-gif/Data-Analysis/blob/main/4_1_%ED%8C%8C%EC%9D%B4%EC%8D%AC_%EA%B8%B0%EB%B3%B8_%EC%97%B0%EC%82%B0%EA%B3%BC_%EC%9E%90%EB%A3%8C%ED%98%95_input_ipynb%EC%9D%98_%EC%82%AC%EB%B3%B8.ipynb\" target=\"_parent\"><img src=\"https://colab.research.google.com/assets/colab-badge.svg\" alt=\"Open In Colab\"/></a>"
      ]
    },
    {
      "cell_type": "markdown",
      "metadata": {
        "id": "h63gKkC2u4F8"
      },
      "source": [
        "* 파이썬 공식 튜토리얼 :\n",
        "    * 영문 : https://docs.python.org/3/tutorial/introduction.html\n",
        "    * 한글 : https://docs.python.org/ko/3/tutorial/index.html\n",
        "\n",
        "\n",
        "## Zen of Python\n",
        "* 파이썬의 철학이 잘 담겨있는 Zen of Python 을 출력해 봅니다.\n",
        "    * \"아름다운 게 추한 것보다 낫다.\" (Beautiful is better than ugly)\n",
        "    * \"명시적인 것이 암시적인 것 보다 낫다.\" (Explicit is better than implicit)\n",
        "    * \"단순함이 복잡함보다 낫다.\" (Simple is better than complex)\n",
        "    * \"복잡함이 난해한 것보다 낫다.\" (Complex is better than complicated)\n",
        "    * \"가독성은 중요하다.\" (Readability counts)\n",
        "    \n",
        "* import를 통해 파이썬의 라이브러리나 패키지를 가져올 수 있습니다."
      ]
    },
    {
      "cell_type": "code",
      "execution_count": 1,
      "metadata": {
        "id": "PxUHokR8sQ8q",
        "colab": {
          "base_uri": "https://localhost:8080/"
        },
        "outputId": "8999cf74-b904-4f61-f000-566faf87f35a"
      },
      "outputs": [
        {
          "output_type": "stream",
          "name": "stdout",
          "text": [
            "The Zen of Python, by Tim Peters\n",
            "\n",
            "Beautiful is better than ugly.\n",
            "Explicit is better than implicit.\n",
            "Simple is better than complex.\n",
            "Complex is better than complicated.\n",
            "Flat is better than nested.\n",
            "Sparse is better than dense.\n",
            "Readability counts.\n",
            "Special cases aren't special enough to break the rules.\n",
            "Although practicality beats purity.\n",
            "Errors should never pass silently.\n",
            "Unless explicitly silenced.\n",
            "In the face of ambiguity, refuse the temptation to guess.\n",
            "There should be one-- and preferably only one --obvious way to do it.\n",
            "Although that way may not be obvious at first unless you're Dutch.\n",
            "Now is better than never.\n",
            "Although never is often better than *right* now.\n",
            "If the implementation is hard to explain, it's a bad idea.\n",
            "If the implementation is easy to explain, it may be a good idea.\n",
            "Namespaces are one honking great idea -- let's do more of those!\n"
          ]
        }
      ],
      "source": [
        "# import this를 출력해 봅니다.\n",
        "import this"
      ]
    },
    {
      "cell_type": "markdown",
      "metadata": {
        "id": "_iK7gJ1XuGqs"
      },
      "source": [
        "## 숫자\n",
        "* https://docs.python.org/ko/3/tutorial/introduction.html#numbers"
      ]
    },
    {
      "cell_type": "code",
      "execution_count": 2,
      "metadata": {
        "scrolled": true,
        "id": "Zsle31aUuGqs",
        "colab": {
          "base_uri": "https://localhost:8080/"
        },
        "outputId": "a9ba2411-0037-4e7e-804d-ceb129a07d30"
      },
      "outputs": [
        {
          "output_type": "execute_result",
          "data": {
            "text/plain": [
              "1"
            ]
          },
          "metadata": {},
          "execution_count": 2
        }
      ],
      "source": [
        "# 정수 1을 출력해 봅니다.\n",
        "1"
      ]
    },
    {
      "cell_type": "code",
      "execution_count": 3,
      "metadata": {
        "id": "XT-3gFLVuGqt",
        "colab": {
          "base_uri": "https://localhost:8080/"
        },
        "outputId": "1a3fd153-e22b-430b-b0dd-ae1093ec3f7c"
      },
      "outputs": [
        {
          "output_type": "execute_result",
          "data": {
            "text/plain": [
              "1.0"
            ]
          },
          "metadata": {},
          "execution_count": 3
        }
      ],
      "source": [
        "# 실수 1을 출력해 봅니다.\n",
        "1.0"
      ]
    },
    {
      "cell_type": "code",
      "execution_count": 4,
      "metadata": {
        "id": "oplWQHM_uGqt",
        "colab": {
          "base_uri": "https://localhost:8080/"
        },
        "outputId": "209af232-8ed4-4fff-a301-c72c34f223bc"
      },
      "outputs": [
        {
          "output_type": "execute_result",
          "data": {
            "text/plain": [
              "int"
            ]
          },
          "metadata": {},
          "execution_count": 4
        }
      ],
      "source": [
        "# 정수 1의 타입을 출력해 봅니다.\n",
        "type(1)"
      ]
    },
    {
      "cell_type": "code",
      "execution_count": 5,
      "metadata": {
        "id": "HWusW4_iuGqt",
        "colab": {
          "base_uri": "https://localhost:8080/"
        },
        "outputId": "48ac5fe3-cf0d-4b70-e2ac-d6f65c24a6c6"
      },
      "outputs": [
        {
          "output_type": "execute_result",
          "data": {
            "text/plain": [
              "float"
            ]
          },
          "metadata": {},
          "execution_count": 5
        }
      ],
      "source": [
        "# 실수 1의 타입을 출력해 봅니다.\n",
        "type(1.0)"
      ]
    },
    {
      "cell_type": "markdown",
      "metadata": {
        "id": "EbXE0iKuuGqt"
      },
      "source": [
        "## 사칙연산"
      ]
    },
    {
      "cell_type": "code",
      "execution_count": 6,
      "metadata": {
        "id": "wtL47fgWuGqt",
        "colab": {
          "base_uri": "https://localhost:8080/"
        },
        "outputId": "b0328757-2c40-4b19-863c-f53da3abe7fa"
      },
      "outputs": [
        {
          "output_type": "execute_result",
          "data": {
            "text/plain": [
              "3"
            ]
          },
          "metadata": {},
          "execution_count": 6
        }
      ],
      "source": [
        "# 더하기\n",
        "1+2"
      ]
    },
    {
      "cell_type": "code",
      "execution_count": 7,
      "metadata": {
        "id": "6JPJgjONuGqt",
        "colab": {
          "base_uri": "https://localhost:8080/"
        },
        "outputId": "40d7c18c-9a87-4c61-b960-90b4330ad3ad"
      },
      "outputs": [
        {
          "output_type": "execute_result",
          "data": {
            "text/plain": [
              "1"
            ]
          },
          "metadata": {},
          "execution_count": 7
        }
      ],
      "source": [
        "# 빼기\n",
        "3 - 2"
      ]
    },
    {
      "cell_type": "code",
      "execution_count": 8,
      "metadata": {
        "id": "V2iiGebjuGqt",
        "colab": {
          "base_uri": "https://localhost:8080/"
        },
        "outputId": "608cdd40-04dc-40ca-cdbe-62861ded3359"
      },
      "outputs": [
        {
          "output_type": "execute_result",
          "data": {
            "text/plain": [
              "6"
            ]
          },
          "metadata": {},
          "execution_count": 8
        }
      ],
      "source": [
        "# 곱하기\n",
        "2 * 3"
      ]
    },
    {
      "cell_type": "code",
      "execution_count": 9,
      "metadata": {
        "id": "fUWOP622uGqt",
        "colab": {
          "base_uri": "https://localhost:8080/"
        },
        "outputId": "38c4f2fa-fac4-4d70-a783-25e145cc76a4"
      },
      "outputs": [
        {
          "output_type": "execute_result",
          "data": {
            "text/plain": [
              "1.5"
            ]
          },
          "metadata": {},
          "execution_count": 9
        }
      ],
      "source": [
        "# 나누기\n",
        "3 / 2"
      ]
    },
    {
      "cell_type": "code",
      "execution_count": 10,
      "metadata": {
        "id": "l-iT15SWuGqu",
        "colab": {
          "base_uri": "https://localhost:8080/"
        },
        "outputId": "d963955c-ccb4-4fb9-a2b1-4f79105bbf19"
      },
      "outputs": [
        {
          "output_type": "execute_result",
          "data": {
            "text/plain": [
              "1"
            ]
          },
          "metadata": {},
          "execution_count": 10
        }
      ],
      "source": [
        "# 나누기 후 몫만 반환\n",
        "3 // 2"
      ]
    },
    {
      "cell_type": "code",
      "execution_count": 11,
      "metadata": {
        "id": "VSoQ5RYEuGqu",
        "colab": {
          "base_uri": "https://localhost:8080/"
        },
        "outputId": "71e91ffc-969b-4f99-f98b-b7ea8d7e9b56"
      },
      "outputs": [
        {
          "output_type": "execute_result",
          "data": {
            "text/plain": [
              "1"
            ]
          },
          "metadata": {},
          "execution_count": 11
        }
      ],
      "source": [
        "# 나누기 후 나머지만 반환\n",
        "3 % 2"
      ]
    },
    {
      "cell_type": "markdown",
      "metadata": {
        "id": "YVod72rSuGqu"
      },
      "source": [
        "## 변수\n",
        "* 변수명은 숫자로 시작할 수 없습니다.\n",
        "* 변수명은 언더바(_)를 제외한 특수문자를 사용할 수 없습니다.\n",
        "\n",
        "```\n",
        "---------------------------------------------------------------------------\n",
        "NameError                                 Traceback (most recent call last)\n",
        "<ipython-input-26-ab0680a89434> in <module>\n",
        "----> 1 n\n",
        "\n",
        "NameError: name 'n' is not defined\n",
        "\n",
        "```"
      ]
    },
    {
      "cell_type": "code",
      "execution_count": 18,
      "metadata": {
        "id": "KHb6wixAuGqu",
        "colab": {
          "base_uri": "https://localhost:8080/"
        },
        "outputId": "59328098-69c7-433d-ee13-bd70fd3676f1"
      },
      "outputs": [
        {
          "output_type": "execute_result",
          "data": {
            "text/plain": [
              "1"
            ]
          },
          "metadata": {},
          "execution_count": 18
        }
      ],
      "source": [
        "# 정의되지 않은 변수를 출력해 보면 어떤 오류 메시지가 나오는지 확인해 봅니다.\n",
        "n_1 = 1\n",
        "n_1"
      ]
    },
    {
      "cell_type": "markdown",
      "metadata": {
        "id": "z81M69yXuGqu"
      },
      "source": [
        "## 응용\n",
        "* 변수에 값을 할당하고 면적을 구해 봅니다."
      ]
    },
    {
      "cell_type": "code",
      "execution_count": 21,
      "metadata": {
        "id": "9v4xzPlfuGqu",
        "colab": {
          "base_uri": "https://localhost:8080/"
        },
        "outputId": "80f43454-b308-4626-ef4e-9d2c41f7e8fd"
      },
      "outputs": [
        {
          "output_type": "execute_result",
          "data": {
            "text/plain": [
              "100"
            ]
          },
          "metadata": {},
          "execution_count": 21
        }
      ],
      "source": [
        "width = 20\n",
        "height = 5\n",
        "\n",
        "width * height"
      ]
    },
    {
      "cell_type": "markdown",
      "metadata": {
        "id": "kJDQaFl6uGqu"
      },
      "source": [
        "## 문자열\n",
        "* https://docs.python.org/ko/3/tutorial/introduction.html#strings\n",
        "### 문자열 정의"
      ]
    },
    {
      "cell_type": "code",
      "execution_count": 22,
      "metadata": {
        "id": "UYkgwLneuGqu",
        "colab": {
          "base_uri": "https://localhost:8080/",
          "height": 36
        },
        "outputId": "75ac9a98-7b78-4f46-ebba-afb819ffaad7"
      },
      "outputs": [
        {
          "output_type": "execute_result",
          "data": {
            "text/plain": [
              "'파이썬'"
            ],
            "application/vnd.google.colaboratory.intrinsic+json": {
              "type": "string"
            }
          },
          "metadata": {},
          "execution_count": 22
        }
      ],
      "source": [
        "# 큰따옴표로 문자열을 정의합니다.\n",
        "\"파이썬\""
      ]
    },
    {
      "cell_type": "code",
      "execution_count": 23,
      "metadata": {
        "id": "URNlJvDcuGqu",
        "colab": {
          "base_uri": "https://localhost:8080/",
          "height": 36
        },
        "outputId": "45a94613-7257-4c56-b024-cd310836a73b"
      },
      "outputs": [
        {
          "output_type": "execute_result",
          "data": {
            "text/plain": [
              "'파이썬'"
            ],
            "application/vnd.google.colaboratory.intrinsic+json": {
              "type": "string"
            }
          },
          "metadata": {},
          "execution_count": 23
        }
      ],
      "source": [
        "# 작은따옴표로 문자열을 정의합니다.\n",
        "'파이썬'"
      ]
    },
    {
      "cell_type": "code",
      "execution_count": 24,
      "metadata": {
        "id": "-m9xn62WuGqu",
        "colab": {
          "base_uri": "https://localhost:8080/",
          "height": 36
        },
        "outputId": "5a92f3b7-c3e1-4371-8d8e-9e3aef93f1c5"
      },
      "outputs": [
        {
          "output_type": "execute_result",
          "data": {
            "text/plain": [
              "\"파이썬's\""
            ],
            "application/vnd.google.colaboratory.intrinsic+json": {
              "type": "string"
            }
          },
          "metadata": {},
          "execution_count": 24
        }
      ],
      "source": [
        "# 큰따옴표와 작은따옴표의 차이를 알아봅니다.\n",
        "\"파이썬's\""
      ]
    },
    {
      "cell_type": "code",
      "execution_count": 25,
      "metadata": {
        "id": "wtOm04EIuGqu",
        "colab": {
          "base_uri": "https://localhost:8080/",
          "height": 36
        },
        "outputId": "34fa26f2-313a-4578-b13b-3ceb5a2e8d36"
      },
      "outputs": [
        {
          "output_type": "execute_result",
          "data": {
            "text/plain": [
              "'\\n줄바꿈 \\n문자를\\n표현합니다.\\n'"
            ],
            "application/vnd.google.colaboratory.intrinsic+json": {
              "type": "string"
            }
          },
          "metadata": {},
          "execution_count": 25
        }
      ],
      "source": [
        "# 줄바꿈 문자를 표현합니다.\n",
        "\"\"\"\n",
        "줄바꿈\n",
        "문자를\n",
        "표현합니다.\n",
        "\"\"\""
      ]
    },
    {
      "cell_type": "code",
      "execution_count": 28,
      "metadata": {
        "id": "gufGTAKluGqu",
        "colab": {
          "base_uri": "https://localhost:8080/",
          "height": 36
        },
        "outputId": "634c7335-ec3f-47a7-84cc-5253c7cf69a8"
      },
      "outputs": [
        {
          "output_type": "execute_result",
          "data": {
            "text/plain": [
              "'--------------------------------------------------'"
            ],
            "application/vnd.google.colaboratory.intrinsic+json": {
              "type": "string"
            }
          },
          "metadata": {},
          "execution_count": 28
        }
      ],
      "source": [
        "# *를 통해 문자를 반복 출력합니다.\n",
        "\"-\" * 50"
      ]
    },
    {
      "cell_type": "markdown",
      "metadata": {
        "id": "u1KOBRbhuGqu"
      },
      "source": [
        "### 문자열 인덱싱\n",
        "\n",
        "\n",
        "```\n",
        " +---+---+---+---+---+---+\n",
        " | P | y | t | h | o | n |\n",
        " +---+---+---+---+---+---+\n",
        " 0   1   2   3   4   5   6\n",
        "-6  -5  -4  -3  -2  -1\n",
        "```"
      ]
    },
    {
      "cell_type": "code",
      "execution_count": 32,
      "metadata": {
        "id": "yYN-su76uGqu",
        "colab": {
          "base_uri": "https://localhost:8080/",
          "height": 36
        },
        "outputId": "bc74dbfa-3658-4393-cabf-38e6adfea607"
      },
      "outputs": [
        {
          "output_type": "execute_result",
          "data": {
            "text/plain": [
              "\"Python's hobby?\""
            ],
            "application/vnd.google.colaboratory.intrinsic+json": {
              "type": "string"
            }
          },
          "metadata": {},
          "execution_count": 32
        }
      ],
      "source": [
        "# 변수에 담긴 문자열의 위치를 알아봅니다.\n",
        "word = \"Python's hobby?\"\n",
        "word"
      ]
    },
    {
      "cell_type": "code",
      "execution_count": 33,
      "metadata": {
        "id": "jnZlulR9uGqu",
        "colab": {
          "base_uri": "https://localhost:8080/",
          "height": 36
        },
        "outputId": "1607b3cd-2127-47ac-d66a-e6f6f6946ab1"
      },
      "outputs": [
        {
          "output_type": "execute_result",
          "data": {
            "text/plain": [
              "'P'"
            ],
            "application/vnd.google.colaboratory.intrinsic+json": {
              "type": "string"
            }
          },
          "metadata": {},
          "execution_count": 33
        }
      ],
      "source": [
        "# 0번 인덱스의 원소를 가져옵니다.\n",
        "word[0]"
      ]
    },
    {
      "cell_type": "code",
      "execution_count": 34,
      "metadata": {
        "id": "RowezosAuGqu",
        "colab": {
          "base_uri": "https://localhost:8080/",
          "height": 36
        },
        "outputId": "70065a79-42bf-4d0e-c11e-5dfb07e2425f"
      },
      "outputs": [
        {
          "output_type": "execute_result",
          "data": {
            "text/plain": [
              "'y'"
            ],
            "application/vnd.google.colaboratory.intrinsic+json": {
              "type": "string"
            }
          },
          "metadata": {},
          "execution_count": 34
        }
      ],
      "source": [
        "# 1번 인덱스의 원소를 가져옵니다.\n",
        "word[1]"
      ]
    },
    {
      "cell_type": "code",
      "execution_count": 36,
      "metadata": {
        "id": "pWzA64R1uGqu",
        "colab": {
          "base_uri": "https://localhost:8080/",
          "height": 36
        },
        "outputId": "cf80ac72-e63c-4d83-ded0-ca96cb04edb4"
      },
      "outputs": [
        {
          "output_type": "execute_result",
          "data": {
            "text/plain": [
              "'?'"
            ],
            "application/vnd.google.colaboratory.intrinsic+json": {
              "type": "string"
            }
          },
          "metadata": {},
          "execution_count": 36
        }
      ],
      "source": [
        "# 마지막 인덱스의 원소를 가져옵니다.\n",
        "word[-1]"
      ]
    },
    {
      "cell_type": "markdown",
      "metadata": {
        "id": "995KivZ0uGqv"
      },
      "source": [
        "### 문자열 슬라이싱"
      ]
    },
    {
      "cell_type": "code",
      "execution_count": 43,
      "metadata": {
        "id": "HT0nhQ43uGqv",
        "colab": {
          "base_uri": "https://localhost:8080/",
          "height": 36
        },
        "outputId": "dd012d91-1818-49ac-f7a7-a33717a66484"
      },
      "outputs": [
        {
          "output_type": "execute_result",
          "data": {
            "text/plain": [
              "'Python'"
            ],
            "application/vnd.google.colaboratory.intrinsic+json": {
              "type": "string"
            }
          },
          "metadata": {},
          "execution_count": 43
        }
      ],
      "source": [
        "# [시작인덱스:끝나는인덱스+1] 로 문자열의 일부를 가져옵니다.\n",
        "# 앞에서 6개 글자만 가져옵니다.\n",
        "word[:6]"
      ]
    },
    {
      "cell_type": "code",
      "execution_count": 42,
      "metadata": {
        "id": "vV7p0VEkuGqv",
        "colab": {
          "base_uri": "https://localhost:8080/",
          "height": 36
        },
        "outputId": "1723d55c-20f5-433b-9892-8ee291d9ef13"
      },
      "outputs": [
        {
          "output_type": "execute_result",
          "data": {
            "text/plain": [
              "'hobby?'"
            ],
            "application/vnd.google.colaboratory.intrinsic+json": {
              "type": "string"
            }
          },
          "metadata": {},
          "execution_count": 42
        }
      ],
      "source": [
        "# 뒤에서 6개 글자만 가져옵니다.\n",
        "word[-6:]"
      ]
    },
    {
      "cell_type": "code",
      "execution_count": 49,
      "metadata": {
        "id": "k_9p2uWJuGqv",
        "colab": {
          "base_uri": "https://localhost:8080/",
          "height": 36
        },
        "outputId": "6bcbdd26-4971-45e8-f95d-28f2fcae4de9"
      },
      "outputs": [
        {
          "output_type": "execute_result",
          "data": {
            "text/plain": [
              "'thon'"
            ],
            "application/vnd.google.colaboratory.intrinsic+json": {
              "type": "string"
            }
          },
          "metadata": {},
          "execution_count": 49
        }
      ],
      "source": [
        "# 2번 인덱스부터 4개의 글자만 가져옵니다.\n",
        "word[2:6]"
      ]
    },
    {
      "cell_type": "markdown",
      "metadata": {
        "id": "xkUmiDObuGqv"
      },
      "source": [
        "### 문자열 함수\n",
        "* https://docs.python.org/ko/3/library/stdtypes.html#string-methods"
      ]
    },
    {
      "cell_type": "code",
      "execution_count": 50,
      "metadata": {
        "id": "8SvVLJaYuGqv",
        "colab": {
          "base_uri": "https://localhost:8080/",
          "height": 36
        },
        "outputId": "4048bc56-06bc-4146-a6b1-2c0510a2b744"
      },
      "outputs": [
        {
          "output_type": "execute_result",
          "data": {
            "text/plain": [
              "\"python's hobby?\""
            ],
            "application/vnd.google.colaboratory.intrinsic+json": {
              "type": "string"
            }
          },
          "metadata": {},
          "execution_count": 50
        }
      ],
      "source": [
        "# 소문자로 변환합니다.\n",
        "word.lower()"
      ]
    },
    {
      "cell_type": "code",
      "execution_count": 51,
      "metadata": {
        "id": "0GWObhqAuGqv",
        "colab": {
          "base_uri": "https://localhost:8080/",
          "height": 36
        },
        "outputId": "ff65c1b8-09e6-4af9-af30-f74b6c761016"
      },
      "outputs": [
        {
          "output_type": "execute_result",
          "data": {
            "text/plain": [
              "\"PYTHON'S HOBBY?\""
            ],
            "application/vnd.google.colaboratory.intrinsic+json": {
              "type": "string"
            }
          },
          "metadata": {},
          "execution_count": 51
        }
      ],
      "source": [
        "# 대문자로 변환합니다.\n",
        "word.upper()"
      ]
    },
    {
      "cell_type": "markdown",
      "metadata": {
        "id": "_iVK_ozPuGqv"
      },
      "source": [
        "## 리스트\n",
        "* https://docs.python.org/ko/3/tutorial/introduction.html#lists"
      ]
    },
    {
      "cell_type": "code",
      "execution_count": 52,
      "metadata": {
        "id": "3GN3u_syuGqv",
        "colab": {
          "base_uri": "https://localhost:8080/"
        },
        "outputId": "b77cc583-a3df-4da5-fafc-4ca99d120761"
      },
      "outputs": [
        {
          "output_type": "execute_result",
          "data": {
            "text/plain": [
              "[1, 4, 9, 16, 25]"
            ]
          },
          "metadata": {},
          "execution_count": 52
        }
      ],
      "source": [
        "# 리스트 값을 생성합니다.\n",
        "squares = [1, 4, 9, 16, 25]\n",
        "squares"
      ]
    },
    {
      "cell_type": "code",
      "source": [
        "type([])"
      ],
      "metadata": {
        "colab": {
          "base_uri": "https://localhost:8080/"
        },
        "id": "Vl10DYdYxgyu",
        "outputId": "9903989d-68da-4bf3-94e6-3f0672427d9e"
      },
      "execution_count": 54,
      "outputs": [
        {
          "output_type": "execute_result",
          "data": {
            "text/plain": [
              "list"
            ]
          },
          "metadata": {},
          "execution_count": 54
        }
      ]
    },
    {
      "cell_type": "markdown",
      "metadata": {
        "id": "HMPOQYtDuGqv"
      },
      "source": [
        "### 리스트 인덱싱"
      ]
    },
    {
      "cell_type": "code",
      "execution_count": 55,
      "metadata": {
        "id": "RvvOlKJCuGqy",
        "colab": {
          "base_uri": "https://localhost:8080/"
        },
        "outputId": "364c5c63-d94d-4a11-87d4-41bb4d3afbad"
      },
      "outputs": [
        {
          "output_type": "execute_result",
          "data": {
            "text/plain": [
              "1"
            ]
          },
          "metadata": {},
          "execution_count": 55
        }
      ],
      "source": [
        "# 인덱스 번호는 0부터 시작합니다. 0번 인덱스를 가져옵니다.\n",
        "squares[0]"
      ]
    },
    {
      "cell_type": "code",
      "execution_count": 56,
      "metadata": {
        "id": "_CQC7-piuGqy",
        "colab": {
          "base_uri": "https://localhost:8080/"
        },
        "outputId": "b27ad601-cdf4-45b7-c4e3-30840f9a066e"
      },
      "outputs": [
        {
          "output_type": "execute_result",
          "data": {
            "text/plain": [
              "25"
            ]
          },
          "metadata": {},
          "execution_count": 56
        }
      ],
      "source": [
        "# 마지막 인덱스는 -1 로 가져올 수 있습니다.\n",
        "squares[-1]"
      ]
    },
    {
      "cell_type": "code",
      "execution_count": 57,
      "metadata": {
        "id": "yDe2Uee_uGqy",
        "colab": {
          "base_uri": "https://localhost:8080/"
        },
        "outputId": "e177f3b6-5e33-4c4a-990b-db91668b4d98"
      },
      "outputs": [
        {
          "output_type": "execute_result",
          "data": {
            "text/plain": [
              "9"
            ]
          },
          "metadata": {},
          "execution_count": 57
        }
      ],
      "source": [
        "# 뒤에서 3번째 값을 가져옵니다.\n",
        "squares[-3]"
      ]
    },
    {
      "cell_type": "markdown",
      "metadata": {
        "id": "cvhmU8xLuGqy"
      },
      "source": [
        "### 리스트 슬라이싱"
      ]
    },
    {
      "cell_type": "code",
      "execution_count": 60,
      "metadata": {
        "id": "Xkak9iInuGqy",
        "colab": {
          "base_uri": "https://localhost:8080/"
        },
        "outputId": "f10d800e-f1b9-4a9c-fce3-8e52d02d8a17"
      },
      "outputs": [
        {
          "output_type": "execute_result",
          "data": {
            "text/plain": [
              "[1, 4, 9]"
            ]
          },
          "metadata": {},
          "execution_count": 60
        }
      ],
      "source": [
        "# [시작인덱스:끝나는인덱스+1]\n",
        "squares[:3]"
      ]
    },
    {
      "cell_type": "markdown",
      "metadata": {
        "id": "f_fZlBLnuGqy"
      },
      "source": [
        "### 리스트의 함수"
      ]
    },
    {
      "cell_type": "code",
      "execution_count": 61,
      "metadata": {
        "id": "ZzPaNkS9uGqy",
        "colab": {
          "base_uri": "https://localhost:8080/"
        },
        "outputId": "25459bff-2287-4362-ffd1-6f24d602ee2b"
      },
      "outputs": [
        {
          "output_type": "execute_result",
          "data": {
            "text/plain": [
              "[1, 4, 9, 16, 25, 36]"
            ]
          },
          "metadata": {},
          "execution_count": 61
        }
      ],
      "source": [
        "# append로 값을 추가합니다.\n",
        "squares.append(36)\n",
        "squares"
      ]
    },
    {
      "cell_type": "code",
      "execution_count": 62,
      "metadata": {
        "id": "ZSS_WDXYuGqy",
        "colab": {
          "base_uri": "https://localhost:8080/"
        },
        "outputId": "d3783a56-7716-416a-8a4f-0807248925b6"
      },
      "outputs": [
        {
          "output_type": "execute_result",
          "data": {
            "text/plain": [
              "[1, 4, 9, 16, 25]"
            ]
          },
          "metadata": {},
          "execution_count": 62
        }
      ],
      "source": [
        "# remove로 값을 제거합니다.\n",
        "squares.remove(36)\n",
        "squares"
      ]
    },
    {
      "cell_type": "markdown",
      "metadata": {
        "id": "RM1J9GwxuGqy"
      },
      "source": [
        "## 딕셔너리\n",
        "* https://docs.python.org/ko/3/tutorial/datastructures.html#dictionaries"
      ]
    },
    {
      "cell_type": "code",
      "execution_count": 63,
      "metadata": {
        "id": "kldE9FTsuGqz",
        "colab": {
          "base_uri": "https://localhost:8080/"
        },
        "outputId": "ae66f6a1-7944-47cd-c48b-b2fa6bd86a3c"
      },
      "outputs": [
        {
          "output_type": "execute_result",
          "data": {
            "text/plain": [
              "{'고구마': 4139, '감자': 4098, '쪽파': 100}"
            ]
          },
          "metadata": {},
          "execution_count": 63
        }
      ],
      "source": [
        "# {키:값} 형식으로 되어 있습니다.\n",
        "# 딕셔너리를 정의합니다.\n",
        "# 재고라는 이름을 갖는 변수에 고구마, 감자, 쪽파의 수량을 표시해 봅니다.\n",
        "재고 = {'고구마': 4139, '감자': 4098, '쪽파': 100}\n",
        "재고"
      ]
    },
    {
      "cell_type": "code",
      "execution_count": 65,
      "metadata": {
        "scrolled": true,
        "id": "1_TIJBnsuGqz",
        "colab": {
          "base_uri": "https://localhost:8080/"
        },
        "outputId": "db84d30c-0645-4cf6-bbbd-6aafbc4d1065"
      },
      "outputs": [
        {
          "output_type": "execute_result",
          "data": {
            "text/plain": [
              "{'고구마': 4139, '감자': 4098, '쪽파': 100, '대파': 345}"
            ]
          },
          "metadata": {},
          "execution_count": 65
        }
      ],
      "source": [
        "# 재고에 대파를 추가해 봅니다.\n",
        "재고[\"대파\"]=345\n",
        "재고"
      ]
    },
    {
      "cell_type": "code",
      "execution_count": 66,
      "metadata": {
        "id": "rN8vwDOiuGqz",
        "colab": {
          "base_uri": "https://localhost:8080/"
        },
        "outputId": "deb393e3-6899-4fd3-d985-13fdb8800f7c"
      },
      "outputs": [
        {
          "output_type": "execute_result",
          "data": {
            "text/plain": [
              "345"
            ]
          },
          "metadata": {},
          "execution_count": 66
        }
      ],
      "source": [
        "# 키를 통해 \"대파\"의 값을 가져옵니다.\n",
        "재고[\"대파\"]"
      ]
    },
    {
      "cell_type": "code",
      "execution_count": 69,
      "metadata": {
        "id": "uL0P59m7uGqz",
        "colab": {
          "base_uri": "https://localhost:8080/"
        },
        "outputId": "79df9e2d-d072-4790-bea4-32c8e095e57d"
      },
      "outputs": [
        {
          "output_type": "execute_result",
          "data": {
            "text/plain": [
              "{'고구마': 4139, '감자': 4098, '쪽파': 100, '대파': 345, '양파': 643}"
            ]
          },
          "metadata": {},
          "execution_count": 69
        }
      ],
      "source": [
        "# \"양파\" 도 추가해 봅니다.\n",
        "재고[\"양파\"]=643\n",
        "재고"
      ]
    },
    {
      "cell_type": "code",
      "execution_count": 74,
      "metadata": {
        "id": "j7IvPo01uGqz",
        "colab": {
          "base_uri": "https://localhost:8080/",
          "height": 162
        },
        "outputId": "81bd6a65-6fd4-434e-bfc9-f321b5e4d2a9"
      },
      "outputs": [
        {
          "output_type": "error",
          "ename": "KeyError",
          "evalue": "'양파'",
          "traceback": [
            "\u001b[0;31m---------------------------------------------------------------------------\u001b[0m",
            "\u001b[0;31mKeyError\u001b[0m                                  Traceback (most recent call last)",
            "\u001b[0;32m/tmp/ipython-input-3555710931.py\u001b[0m in \u001b[0;36m<cell line: 0>\u001b[0;34m()\u001b[0m\n\u001b[1;32m      1\u001b[0m \u001b[0;31m# del을 통해 값을 제거할 수 있습니다.\u001b[0m\u001b[0;34m\u001b[0m\u001b[0;34m\u001b[0m\u001b[0m\n\u001b[0;32m----> 2\u001b[0;31m \u001b[0;32mdel\u001b[0m \u001b[0m재고\u001b[0m\u001b[0;34m[\u001b[0m\u001b[0;34m\"양파\"\u001b[0m\u001b[0;34m]\u001b[0m\u001b[0;34m\u001b[0m\u001b[0;34m\u001b[0m\u001b[0m\n\u001b[0m",
            "\u001b[0;31mKeyError\u001b[0m: '양파'"
          ]
        }
      ],
      "source": [
        "# del을 통해 값을 제거할 수 있습니다.\n",
        "del 재고[\"양파\"]"
      ]
    },
    {
      "cell_type": "code",
      "execution_count": 73,
      "metadata": {
        "id": "tIARRFpmuGqz",
        "colab": {
          "base_uri": "https://localhost:8080/"
        },
        "outputId": "48bf4d7a-8323-40f6-8169-97d957643d3c"
      },
      "outputs": [
        {
          "output_type": "execute_result",
          "data": {
            "text/plain": [
              "{'고구마': 4139, '감자': 4098, '쪽파': 100, '대파': 345}"
            ]
          },
          "metadata": {},
          "execution_count": 73
        }
      ],
      "source": [
        "# 값이 잘 제거되었는지 확인합니다.\n",
        "재고"
      ]
    },
    {
      "cell_type": "code",
      "execution_count": 75,
      "metadata": {
        "id": "jctJE3MFuGqz",
        "colab": {
          "base_uri": "https://localhost:8080/"
        },
        "outputId": "afdaf3a4-7754-40d3-c0fc-c3553c0db431"
      },
      "outputs": [
        {
          "output_type": "execute_result",
          "data": {
            "text/plain": [
              "['고구마', '감자', '쪽파', '대파']"
            ]
          },
          "metadata": {},
          "execution_count": 75
        }
      ],
      "source": [
        "# dict를 list로 반환합니다. 이 때 키값을 가져와 리스트로 생성합니다.\n",
        "list(재고)"
      ]
    },
    {
      "cell_type": "code",
      "execution_count": 76,
      "metadata": {
        "id": "PymXdRHouGqz",
        "colab": {
          "base_uri": "https://localhost:8080/"
        },
        "outputId": "f2442c2f-691e-4383-8ea6-291faee87a65"
      },
      "outputs": [
        {
          "output_type": "execute_result",
          "data": {
            "text/plain": [
              "['감자', '고구마', '대파', '쪽파']"
            ]
          },
          "metadata": {},
          "execution_count": 76
        }
      ],
      "source": [
        "# sorted를 사용해 재고 변수에 담긴 딕셔너리의 키값을 기준으로 정렬합니다.\n",
        "sorted(재고)"
      ]
    },
    {
      "cell_type": "code",
      "execution_count": 78,
      "metadata": {
        "id": "WUUMa6BEuGqz",
        "colab": {
          "base_uri": "https://localhost:8080/"
        },
        "outputId": "50ae6afd-c79c-4b5a-d2db-1d978e68439e"
      },
      "outputs": [
        {
          "output_type": "execute_result",
          "data": {
            "text/plain": [
              "dict_keys(['고구마', '감자', '쪽파', '대파'])"
            ]
          },
          "metadata": {},
          "execution_count": 78
        }
      ],
      "source": [
        "재고.keys()"
      ]
    },
    {
      "cell_type": "markdown",
      "source": [],
      "metadata": {
        "id": "uJDxGqcoy7xD"
      }
    }
  ],
  "metadata": {
    "colab": {
      "provenance": [],
      "include_colab_link": true
    },
    "kernelspec": {
      "display_name": "Python 3",
      "language": "python",
      "name": "python3"
    },
    "language_info": {
      "codemirror_mode": {
        "name": "ipython",
        "version": 3
      },
      "file_extension": ".py",
      "mimetype": "text/x-python",
      "name": "python",
      "nbconvert_exporter": "python",
      "pygments_lexer": "ipython3",
      "version": "3.7.6"
    },
    "toc": {
      "base_numbering": 1,
      "nav_menu": {},
      "number_sections": true,
      "sideBar": true,
      "skip_h1_title": false,
      "title_cell": "Table of Contents",
      "title_sidebar": "Contents",
      "toc_cell": false,
      "toc_position": {},
      "toc_section_display": true,
      "toc_window_display": false
    },
    "varInspector": {
      "cols": {
        "lenName": 16,
        "lenType": 16,
        "lenVar": 40
      },
      "kernels_config": {
        "python": {
          "delete_cmd_postfix": "",
          "delete_cmd_prefix": "del ",
          "library": "var_list.py",
          "varRefreshCmd": "print(var_dic_list())"
        },
        "r": {
          "delete_cmd_postfix": ") ",
          "delete_cmd_prefix": "rm(",
          "library": "var_list.r",
          "varRefreshCmd": "cat(var_dic_list()) "
        }
      },
      "types_to_exclude": [
        "module",
        "function",
        "builtin_function_or_method",
        "instance",
        "_Feature"
      ],
      "window_display": false
    }
  },
  "nbformat": 4,
  "nbformat_minor": 0
}